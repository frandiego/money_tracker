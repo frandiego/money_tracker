{
 "cells": [
  {
   "cell_type": "code",
   "execution_count": 94,
   "metadata": {},
   "outputs": [],
   "source": [
    "from bank import Bank\n",
    "import pandas as pd\n",
    "import os\n",
    "import re"
   ]
  },
  {
   "cell_type": "code",
   "execution_count": 2,
   "metadata": {},
   "outputs": [
    {
     "name": "stdout",
     "output_type": "stream",
     "text": [
      "Python 3.6.12\r\n"
     ]
    }
   ],
   "source": [
    "!python --version"
   ]
  },
  {
   "cell_type": "code",
   "execution_count": 3,
   "metadata": {},
   "outputs": [],
   "source": [
    "os.environ.update({i[0]: i[1] for i in [i.split('=') for i in open('.env').read().split()]})"
   ]
  },
  {
   "cell_type": "code",
   "execution_count": 4,
   "metadata": {},
   "outputs": [],
   "source": [
    "trs = Bank.transactions()"
   ]
  },
  {
   "cell_type": "code",
   "execution_count": 5,
   "metadata": {},
   "outputs": [],
   "source": [
    "dft = pd.DataFrame(trs)"
   ]
  },
  {
   "cell_type": "code",
   "execution_count": 46,
   "metadata": {},
   "outputs": [
    {
     "data": {
      "text/plain": [
       "'PAGO CON TARJETA EN HOGAR, MUEBLES, DECORACION Y ELECTR // PAGO CON TARJETA // IKEA SEVILLA             CASTILLEJA DEES'"
      ]
     },
     "execution_count": 46,
     "metadata": {},
     "output_type": "execute_result"
    }
   ],
   "source": [
    "dft['remittanceInformationUnstructured'].iloc[3]"
   ]
  },
  {
   "cell_type": "code",
   "execution_count": 156,
   "metadata": {},
   "outputs": [
    {
     "data": {
      "text/plain": [
       "array(['ecd4061f-fca6-487e-960b-31d0e07dd1a4',\n",
       "       'e4b0d95e-ddb1-4655-92e1-d671616cf674'], dtype=object)"
      ]
     },
     "execution_count": 156,
     "metadata": {},
     "output_type": "execute_result"
    }
   ],
   "source": [
    "dft['accountId'].unique()"
   ]
  },
  {
   "cell_type": "code",
   "execution_count": 158,
   "metadata": {},
   "outputs": [],
   "source": [
    "id_iban = {'ecd4061f-fca6-487e-960b-31d0e07dd1a4': 'ES4501821252340201668917', \n",
    "           'e4b0d95e-ddb1-4655-92e1-d671616cf674': 'ES1601821252330201679188'}"
   ]
  },
  {
   "cell_type": "code",
   "execution_count": 173,
   "metadata": {},
   "outputs": [],
   "source": [
    "import openpyxl\n",
    "from pathlib import Path"
   ]
  },
  {
   "cell_type": "code",
   "execution_count": 272,
   "metadata": {},
   "outputs": [],
   "source": [
    "xlsx_file = Path('./data/8917.xlsx')"
   ]
  },
  {
   "cell_type": "code",
   "execution_count": 273,
   "metadata": {},
   "outputs": [],
   "source": [
    "wb_obj = openpyxl.load_workbook(xlsx_file) \n"
   ]
  },
  {
   "cell_type": "code",
   "execution_count": 274,
   "metadata": {},
   "outputs": [],
   "source": [
    "col_range = list(range(2, 12))\n",
    "col_row = 5"
   ]
  },
  {
   "cell_type": "code",
   "execution_count": 275,
   "metadata": {},
   "outputs": [],
   "source": [
    "col_names = {wb_obj.active.cell(col_row,i).value:i for i in col_range}"
   ]
  },
  {
   "cell_type": "code",
   "execution_count": 276,
   "metadata": {},
   "outputs": [],
   "source": [
    "data = {k: [wb_obj.active.cell(i,v).value for i in range(col_row+1, 10**4)] for k, v in col_names.items()}"
   ]
  },
  {
   "cell_type": "code",
   "execution_count": 277,
   "metadata": {},
   "outputs": [],
   "source": [
    "df = pd.DataFrame(data)"
   ]
  },
  {
   "cell_type": "code",
   "execution_count": 278,
   "metadata": {},
   "outputs": [],
   "source": [
    "df = df[~df['IBAN'].isna()]"
   ]
  },
  {
   "cell_type": "code",
   "execution_count": 279,
   "metadata": {},
   "outputs": [],
   "source": [
    "df['Fecha'] = (df['Fecha'].dt.date).astype(str)"
   ]
  },
  {
   "cell_type": "code",
   "execution_count": 280,
   "metadata": {},
   "outputs": [],
   "source": [
    "df['F.Valor'] = (df['F.Valor'].dt.date).astype(str)"
   ]
  },
  {
   "cell_type": "code",
   "execution_count": 283,
   "metadata": {},
   "outputs": [],
   "source": [
    "df.to_csv('./data/transactions_8917.hsv', sep='^', index=False)"
   ]
  },
  {
   "cell_type": "code",
   "execution_count": 285,
   "metadata": {},
   "outputs": [],
   "source": [
    "#pd.read_csv('./data/transactions_8917.hsv',sep='^')"
   ]
  },
  {
   "cell_type": "code",
   "execution_count": 286,
   "metadata": {},
   "outputs": [],
   "source": [
    "xlsx_file = Path('./data/9188.xlsx')\n",
    "wb_obj = openpyxl.load_workbook(xlsx_file) \n"
   ]
  },
  {
   "cell_type": "code",
   "execution_count": 287,
   "metadata": {},
   "outputs": [],
   "source": [
    "data = {k: [wb_obj.active.cell(i,v).value for i in range(col_row+1, 10**4)] for k, v in col_names.items()}\n",
    "df = pd.DataFrame(data)"
   ]
  },
  {
   "cell_type": "code",
   "execution_count": 288,
   "metadata": {},
   "outputs": [],
   "source": [
    "df = df[~df['IBAN'].isna()]"
   ]
  },
  {
   "cell_type": "code",
   "execution_count": 289,
   "metadata": {},
   "outputs": [],
   "source": [
    "df['Fecha'] = (df['Fecha'].dt.date).astype(str)\n",
    "df['F.Valor'] = (df['F.Valor'].dt.date).astype(str)"
   ]
  },
  {
   "cell_type": "code",
   "execution_count": 290,
   "metadata": {},
   "outputs": [],
   "source": [
    "df.to_csv('./data/transactions_9188.hsv', sep='^', index=False)"
   ]
  },
  {
   "cell_type": "code",
   "execution_count": 294,
   "metadata": {},
   "outputs": [],
   "source": [
    "df = pd.concat([pd.read_csv(i, sep='^') for i in ['./data/transactions_9188.hsv', './data/transactions_8917.hsv']])"
   ]
  },
  {
   "cell_type": "code",
   "execution_count": 298,
   "metadata": {},
   "outputs": [],
   "source": [
    "df.rename(columns={'Fecha':'bookingDate',\n",
    "                   'F.Valor': 'valueDate', \n",
    "                   'Importe': 'transactionAmount',\n",
    "                   'Disponible' : 'balance', \n",
    "                   'Divisa': 'transactionCurrency'}, inplace=True)"
   ]
  },
  {
   "cell_type": "code",
   "execution_count": 300,
   "metadata": {},
   "outputs": [],
   "source": [
    "iban_id = {'ES4501821252340201668917':'ecd4061f-fca6-487e-960b-31d0e07dd1a4', \n",
    "           'ES1601821252330201679188': 'e4b0d95e-ddb1-4655-92e1-d671616cf674'}"
   ]
  },
  {
   "cell_type": "code",
   "execution_count": 305,
   "metadata": {},
   "outputs": [],
   "source": [
    "df['accountId'] = df['IBAN'].map(iban_id)"
   ]
  },
  {
   "cell_type": "code",
   "execution_count": 312,
   "metadata": {},
   "outputs": [],
   "source": [
    "df['remittanceInformationUnstructured'] = df['Movimiento'].str.upper() + ' EN ' + df['Concepto'].str.upper() + ' // ' + df['Observaciones'].str.upper()"
   ]
  },
  {
   "cell_type": "code",
   "execution_count": 318,
   "metadata": {},
   "outputs": [],
   "source": [
    "df = df.drop(['Movimiento', 'Concepto', 'Observaciones'], axis=1)"
   ]
  },
  {
   "cell_type": "code",
   "execution_count": 332,
   "metadata": {},
   "outputs": [],
   "source": [
    "df.to_csv('./data/merged.hsv', sep='^', index=False )"
   ]
  },
  {
   "cell_type": "code",
   "execution_count": null,
   "metadata": {},
   "outputs": [],
   "source": []
  }
 ],
 "metadata": {
  "kernelspec": {
   "display_name": "Python 3",
   "language": "python",
   "name": "python3"
  },
  "language_info": {
   "codemirror_mode": {
    "name": "ipython",
    "version": 3
   },
   "file_extension": ".py",
   "mimetype": "text/x-python",
   "name": "python",
   "nbconvert_exporter": "python",
   "pygments_lexer": "ipython3",
   "version": "3.6.12"
  }
 },
 "nbformat": 4,
 "nbformat_minor": 4
}
